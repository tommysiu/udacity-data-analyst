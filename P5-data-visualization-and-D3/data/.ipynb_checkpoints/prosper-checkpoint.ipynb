{
 "cells": [
  {
   "cell_type": "code",
   "execution_count": 1,
   "metadata": {
    "collapsed": false
   },
   "outputs": [],
   "source": [
    "%matplotlib inline\n",
    "from pandas import *\n",
    "from pandasql import sqldf\n",
    "from ggplot import *\n",
    "import numpy as np\n",
    "import matplotlib.pyplot as plt\n",
    "import datetime"
   ]
  },
  {
   "cell_type": "code",
   "execution_count": 2,
   "metadata": {
    "collapsed": false
   },
   "outputs": [
    {
     "name": "stdout",
     "output_type": "stream",
     "text": [
      "count                  113937\n",
      "unique                   1873\n",
      "top       2014-01-22 00:00:00\n",
      "freq                      491\n",
      "Name: LoanOriginationDate, dtype: object\n",
      "count    113937.00000\n",
      "mean       8337.01385\n",
      "std        6245.80058\n",
      "min        1000.00000\n",
      "25%        4000.00000\n",
      "50%        6500.00000\n",
      "75%       12000.00000\n",
      "max       35000.00000\n",
      "Name: LoanOriginalAmount, dtype: float64\n"
     ]
    }
   ],
   "source": [
    "data = pandas.read_csv('prosperLoanData.csv')\n",
    "df = data\n",
    "print df.LoanOriginationDate.describe()\n",
    "print df.LoanOriginalAmount.describe()\n",
    "df['year'] = df['LoanOriginationDate'].apply(lambda x: x[:4])\n"
   ]
  },
  {
   "cell_type": "code",
   "execution_count": 4,
   "metadata": {
    "collapsed": false
   },
   "outputs": [
    {
     "name": "stderr",
     "output_type": "stream",
     "text": [
      "/Applications/anaconda/lib/python2.7/site-packages/numpy/lib/function_base.py:3142: RuntimeWarning: Invalid value encountered in median\n",
      "  RuntimeWarning)\n"
     ]
    },
    {
     "data": {
      "text/plain": [
       "nan"
      ]
     },
     "execution_count": 4,
     "metadata": {},
     "output_type": "execute_result"
    }
   ],
   "source": [
    "np.median(data.AmountDelinquent)"
   ]
  },
  {
   "cell_type": "code",
   "execution_count": 5,
   "metadata": {
    "collapsed": false
   },
   "outputs": [
    {
     "name": "stdout",
     "output_type": "stream",
     "text": [
      "0.0\n",
      "463881.0\n",
      "984.507059211\n",
      "nan\n"
     ]
    }
   ],
   "source": [
    "print np.min(data.AmountDelinquent)\n",
    "print np.max(data.AmountDelinquent)\n",
    "print np.mean(data.AmountDelinquent)\n",
    "print np.median(data.AmountDelinquent)\n"
   ]
  },
  {
   "cell_type": "code",
   "execution_count": 6,
   "metadata": {
    "collapsed": false
   },
   "outputs": [
    {
     "name": "stdout",
     "output_type": "stream",
     "text": [
      "2005-11-09 20:44:28.847000000\n",
      "2014-03-10 12:20:53.760000000\n"
     ]
    }
   ],
   "source": [
    "print min(data.ListingCreationDate)\n",
    "print max(data.ListingCreationDate)\n"
   ]
  },
  {
   "cell_type": "code",
   "execution_count": 7,
   "metadata": {
    "collapsed": false
   },
   "outputs": [
    {
     "data": {
      "text/html": [
       "<div>\n",
       "<table border=\"1\" class=\"dataframe\">\n",
       "  <thead>\n",
       "    <tr style=\"text-align: right;\">\n",
       "      <th></th>\n",
       "      <th>AmountDelinquent</th>\n",
       "      <th>LoanOriginalAmount</th>\n",
       "      <th>LoanOriginationDate</th>\n",
       "    </tr>\n",
       "  </thead>\n",
       "  <tbody>\n",
       "    <tr>\n",
       "      <th>0</th>\n",
       "      <td>472.0</td>\n",
       "      <td>9425</td>\n",
       "      <td>2007-09-12 00:00:00</td>\n",
       "    </tr>\n",
       "    <tr>\n",
       "      <th>1</th>\n",
       "      <td>0.0</td>\n",
       "      <td>10000</td>\n",
       "      <td>2014-03-03 00:00:00</td>\n",
       "    </tr>\n",
       "    <tr>\n",
       "      <th>2</th>\n",
       "      <td>NaN</td>\n",
       "      <td>3001</td>\n",
       "      <td>2007-01-17 00:00:00</td>\n",
       "    </tr>\n",
       "    <tr>\n",
       "      <th>3</th>\n",
       "      <td>10056.0</td>\n",
       "      <td>10000</td>\n",
       "      <td>2012-11-01 00:00:00</td>\n",
       "    </tr>\n",
       "    <tr>\n",
       "      <th>4</th>\n",
       "      <td>0.0</td>\n",
       "      <td>15000</td>\n",
       "      <td>2013-09-20 00:00:00</td>\n",
       "    </tr>\n",
       "    <tr>\n",
       "      <th>5</th>\n",
       "      <td>0.0</td>\n",
       "      <td>15000</td>\n",
       "      <td>2013-12-24 00:00:00</td>\n",
       "    </tr>\n",
       "    <tr>\n",
       "      <th>6</th>\n",
       "      <td>0.0</td>\n",
       "      <td>3000</td>\n",
       "      <td>2013-04-18 00:00:00</td>\n",
       "    </tr>\n",
       "    <tr>\n",
       "      <th>7</th>\n",
       "      <td>0.0</td>\n",
       "      <td>10000</td>\n",
       "      <td>2013-05-13 00:00:00</td>\n",
       "    </tr>\n",
       "    <tr>\n",
       "      <th>8</th>\n",
       "      <td>0.0</td>\n",
       "      <td>10000</td>\n",
       "      <td>2013-12-12 00:00:00</td>\n",
       "    </tr>\n",
       "    <tr>\n",
       "      <th>9</th>\n",
       "      <td>0.0</td>\n",
       "      <td>10000</td>\n",
       "      <td>2013-12-12 00:00:00</td>\n",
       "    </tr>\n",
       "    <tr>\n",
       "      <th>10</th>\n",
       "      <td>253.0</td>\n",
       "      <td>13500</td>\n",
       "      <td>2012-05-17 00:00:00</td>\n",
       "    </tr>\n",
       "    <tr>\n",
       "      <th>11</th>\n",
       "      <td>2224.0</td>\n",
       "      <td>1000</td>\n",
       "      <td>2007-10-18 00:00:00</td>\n",
       "    </tr>\n",
       "    <tr>\n",
       "      <th>12</th>\n",
       "      <td>0.0</td>\n",
       "      <td>4000</td>\n",
       "      <td>2014-01-07 00:00:00</td>\n",
       "    </tr>\n",
       "    <tr>\n",
       "      <th>13</th>\n",
       "      <td>0.0</td>\n",
       "      <td>8500</td>\n",
       "      <td>2013-07-18 00:00:00</td>\n",
       "    </tr>\n",
       "    <tr>\n",
       "      <th>14</th>\n",
       "      <td>0.0</td>\n",
       "      <td>19330</td>\n",
       "      <td>2013-05-13 00:00:00</td>\n",
       "    </tr>\n",
       "    <tr>\n",
       "      <th>15</th>\n",
       "      <td>0.0</td>\n",
       "      <td>4000</td>\n",
       "      <td>2012-04-19 00:00:00</td>\n",
       "    </tr>\n",
       "    <tr>\n",
       "      <th>16</th>\n",
       "      <td>2469.0</td>\n",
       "      <td>4000</td>\n",
       "      <td>2013-07-18 00:00:00</td>\n",
       "    </tr>\n",
       "    <tr>\n",
       "      <th>17</th>\n",
       "      <td>NaN</td>\n",
       "      <td>10000</td>\n",
       "      <td>2006-08-22 00:00:00</td>\n",
       "    </tr>\n",
       "    <tr>\n",
       "      <th>18</th>\n",
       "      <td>0.0</td>\n",
       "      <td>15000</td>\n",
       "      <td>2013-03-11 00:00:00</td>\n",
       "    </tr>\n",
       "    <tr>\n",
       "      <th>19</th>\n",
       "      <td>0.0</td>\n",
       "      <td>6500</td>\n",
       "      <td>2013-10-10 00:00:00</td>\n",
       "    </tr>\n",
       "    <tr>\n",
       "      <th>20</th>\n",
       "      <td>0.0</td>\n",
       "      <td>14000</td>\n",
       "      <td>2013-11-29 00:00:00</td>\n",
       "    </tr>\n",
       "    <tr>\n",
       "      <th>21</th>\n",
       "      <td>5200.0</td>\n",
       "      <td>3000</td>\n",
       "      <td>2007-12-12 00:00:00</td>\n",
       "    </tr>\n",
       "    <tr>\n",
       "      <th>22</th>\n",
       "      <td>0.0</td>\n",
       "      <td>4000</td>\n",
       "      <td>2013-02-05 00:00:00</td>\n",
       "    </tr>\n",
       "    <tr>\n",
       "      <th>23</th>\n",
       "      <td>0.0</td>\n",
       "      <td>2000</td>\n",
       "      <td>2013-04-26 00:00:00</td>\n",
       "    </tr>\n",
       "    <tr>\n",
       "      <th>24</th>\n",
       "      <td>0.0</td>\n",
       "      <td>4000</td>\n",
       "      <td>2013-12-18 00:00:00</td>\n",
       "    </tr>\n",
       "    <tr>\n",
       "      <th>25</th>\n",
       "      <td>0.0</td>\n",
       "      <td>4000</td>\n",
       "      <td>2013-10-10 00:00:00</td>\n",
       "    </tr>\n",
       "    <tr>\n",
       "      <th>26</th>\n",
       "      <td>0.0</td>\n",
       "      <td>4000</td>\n",
       "      <td>2013-02-21 00:00:00</td>\n",
       "    </tr>\n",
       "    <tr>\n",
       "      <th>27</th>\n",
       "      <td>0.0</td>\n",
       "      <td>4000</td>\n",
       "      <td>2010-06-24 00:00:00</td>\n",
       "    </tr>\n",
       "    <tr>\n",
       "      <th>28</th>\n",
       "      <td>0.0</td>\n",
       "      <td>10000</td>\n",
       "      <td>2013-11-13 00:00:00</td>\n",
       "    </tr>\n",
       "    <tr>\n",
       "      <th>29</th>\n",
       "      <td>0.0</td>\n",
       "      <td>35000</td>\n",
       "      <td>2014-01-16 00:00:00</td>\n",
       "    </tr>\n",
       "    <tr>\n",
       "      <th>...</th>\n",
       "      <td>...</td>\n",
       "      <td>...</td>\n",
       "      <td>...</td>\n",
       "    </tr>\n",
       "    <tr>\n",
       "      <th>113907</th>\n",
       "      <td>10.0</td>\n",
       "      <td>4000</td>\n",
       "      <td>2013-11-13 00:00:00</td>\n",
       "    </tr>\n",
       "    <tr>\n",
       "      <th>113908</th>\n",
       "      <td>0.0</td>\n",
       "      <td>7500</td>\n",
       "      <td>2010-12-08 00:00:00</td>\n",
       "    </tr>\n",
       "    <tr>\n",
       "      <th>113909</th>\n",
       "      <td>0.0</td>\n",
       "      <td>6000</td>\n",
       "      <td>2012-09-17 00:00:00</td>\n",
       "    </tr>\n",
       "    <tr>\n",
       "      <th>113910</th>\n",
       "      <td>0.0</td>\n",
       "      <td>4000</td>\n",
       "      <td>2014-01-29 00:00:00</td>\n",
       "    </tr>\n",
       "    <tr>\n",
       "      <th>113911</th>\n",
       "      <td>0.0</td>\n",
       "      <td>10000</td>\n",
       "      <td>2013-11-27 00:00:00</td>\n",
       "    </tr>\n",
       "    <tr>\n",
       "      <th>113912</th>\n",
       "      <td>0.0</td>\n",
       "      <td>4000</td>\n",
       "      <td>2013-12-20 00:00:00</td>\n",
       "    </tr>\n",
       "    <tr>\n",
       "      <th>113913</th>\n",
       "      <td>0.0</td>\n",
       "      <td>8000</td>\n",
       "      <td>2010-05-05 00:00:00</td>\n",
       "    </tr>\n",
       "    <tr>\n",
       "      <th>113914</th>\n",
       "      <td>NaN</td>\n",
       "      <td>3000</td>\n",
       "      <td>2006-08-18 00:00:00</td>\n",
       "    </tr>\n",
       "    <tr>\n",
       "      <th>113915</th>\n",
       "      <td>0.0</td>\n",
       "      <td>3000</td>\n",
       "      <td>2008-08-06 00:00:00</td>\n",
       "    </tr>\n",
       "    <tr>\n",
       "      <th>113916</th>\n",
       "      <td>0.0</td>\n",
       "      <td>4000</td>\n",
       "      <td>2012-11-28 00:00:00</td>\n",
       "    </tr>\n",
       "    <tr>\n",
       "      <th>113917</th>\n",
       "      <td>1251.0</td>\n",
       "      <td>4000</td>\n",
       "      <td>2013-11-29 00:00:00</td>\n",
       "    </tr>\n",
       "    <tr>\n",
       "      <th>113918</th>\n",
       "      <td>0.0</td>\n",
       "      <td>7000</td>\n",
       "      <td>2008-06-27 00:00:00</td>\n",
       "    </tr>\n",
       "    <tr>\n",
       "      <th>113919</th>\n",
       "      <td>0.0</td>\n",
       "      <td>4000</td>\n",
       "      <td>2013-05-14 00:00:00</td>\n",
       "    </tr>\n",
       "    <tr>\n",
       "      <th>113920</th>\n",
       "      <td>20235.0</td>\n",
       "      <td>4000</td>\n",
       "      <td>2013-06-13 00:00:00</td>\n",
       "    </tr>\n",
       "    <tr>\n",
       "      <th>113921</th>\n",
       "      <td>NaN</td>\n",
       "      <td>1000</td>\n",
       "      <td>2005-11-15 00:00:00</td>\n",
       "    </tr>\n",
       "    <tr>\n",
       "      <th>113922</th>\n",
       "      <td>0.0</td>\n",
       "      <td>5000</td>\n",
       "      <td>2008-08-19 00:00:00</td>\n",
       "    </tr>\n",
       "    <tr>\n",
       "      <th>113923</th>\n",
       "      <td>0.0</td>\n",
       "      <td>8000</td>\n",
       "      <td>2008-09-23 00:00:00</td>\n",
       "    </tr>\n",
       "    <tr>\n",
       "      <th>113924</th>\n",
       "      <td>0.0</td>\n",
       "      <td>5000</td>\n",
       "      <td>2012-10-23 00:00:00</td>\n",
       "    </tr>\n",
       "    <tr>\n",
       "      <th>113925</th>\n",
       "      <td>0.0</td>\n",
       "      <td>4000</td>\n",
       "      <td>2013-05-08 00:00:00</td>\n",
       "    </tr>\n",
       "    <tr>\n",
       "      <th>113926</th>\n",
       "      <td>NaN</td>\n",
       "      <td>3000</td>\n",
       "      <td>2006-08-08 00:00:00</td>\n",
       "    </tr>\n",
       "    <tr>\n",
       "      <th>113927</th>\n",
       "      <td>0.0</td>\n",
       "      <td>4292</td>\n",
       "      <td>2008-05-09 00:00:00</td>\n",
       "    </tr>\n",
       "    <tr>\n",
       "      <th>113928</th>\n",
       "      <td>0.0</td>\n",
       "      <td>2000</td>\n",
       "      <td>2011-06-10 00:00:00</td>\n",
       "    </tr>\n",
       "    <tr>\n",
       "      <th>113929</th>\n",
       "      <td>0.0</td>\n",
       "      <td>2500</td>\n",
       "      <td>2013-07-10 00:00:00</td>\n",
       "    </tr>\n",
       "    <tr>\n",
       "      <th>113930</th>\n",
       "      <td>0.0</td>\n",
       "      <td>3000</td>\n",
       "      <td>2013-07-10 00:00:00</td>\n",
       "    </tr>\n",
       "    <tr>\n",
       "      <th>113931</th>\n",
       "      <td>0.0</td>\n",
       "      <td>25000</td>\n",
       "      <td>2014-01-22 00:00:00</td>\n",
       "    </tr>\n",
       "    <tr>\n",
       "      <th>113932</th>\n",
       "      <td>0.0</td>\n",
       "      <td>10000</td>\n",
       "      <td>2013-04-22 00:00:00</td>\n",
       "    </tr>\n",
       "    <tr>\n",
       "      <th>113933</th>\n",
       "      <td>5062.0</td>\n",
       "      <td>2000</td>\n",
       "      <td>2011-11-07 00:00:00</td>\n",
       "    </tr>\n",
       "    <tr>\n",
       "      <th>113934</th>\n",
       "      <td>0.0</td>\n",
       "      <td>10000</td>\n",
       "      <td>2013-12-23 00:00:00</td>\n",
       "    </tr>\n",
       "    <tr>\n",
       "      <th>113935</th>\n",
       "      <td>0.0</td>\n",
       "      <td>15000</td>\n",
       "      <td>2011-11-21 00:00:00</td>\n",
       "    </tr>\n",
       "    <tr>\n",
       "      <th>113936</th>\n",
       "      <td>257.0</td>\n",
       "      <td>2000</td>\n",
       "      <td>2014-01-21 00:00:00</td>\n",
       "    </tr>\n",
       "  </tbody>\n",
       "</table>\n",
       "<p>113937 rows × 3 columns</p>\n",
       "</div>"
      ],
      "text/plain": [
       "        AmountDelinquent  LoanOriginalAmount  LoanOriginationDate\n",
       "0                  472.0                9425  2007-09-12 00:00:00\n",
       "1                    0.0               10000  2014-03-03 00:00:00\n",
       "2                    NaN                3001  2007-01-17 00:00:00\n",
       "3                10056.0               10000  2012-11-01 00:00:00\n",
       "4                    0.0               15000  2013-09-20 00:00:00\n",
       "5                    0.0               15000  2013-12-24 00:00:00\n",
       "6                    0.0                3000  2013-04-18 00:00:00\n",
       "7                    0.0               10000  2013-05-13 00:00:00\n",
       "8                    0.0               10000  2013-12-12 00:00:00\n",
       "9                    0.0               10000  2013-12-12 00:00:00\n",
       "10                 253.0               13500  2012-05-17 00:00:00\n",
       "11                2224.0                1000  2007-10-18 00:00:00\n",
       "12                   0.0                4000  2014-01-07 00:00:00\n",
       "13                   0.0                8500  2013-07-18 00:00:00\n",
       "14                   0.0               19330  2013-05-13 00:00:00\n",
       "15                   0.0                4000  2012-04-19 00:00:00\n",
       "16                2469.0                4000  2013-07-18 00:00:00\n",
       "17                   NaN               10000  2006-08-22 00:00:00\n",
       "18                   0.0               15000  2013-03-11 00:00:00\n",
       "19                   0.0                6500  2013-10-10 00:00:00\n",
       "20                   0.0               14000  2013-11-29 00:00:00\n",
       "21                5200.0                3000  2007-12-12 00:00:00\n",
       "22                   0.0                4000  2013-02-05 00:00:00\n",
       "23                   0.0                2000  2013-04-26 00:00:00\n",
       "24                   0.0                4000  2013-12-18 00:00:00\n",
       "25                   0.0                4000  2013-10-10 00:00:00\n",
       "26                   0.0                4000  2013-02-21 00:00:00\n",
       "27                   0.0                4000  2010-06-24 00:00:00\n",
       "28                   0.0               10000  2013-11-13 00:00:00\n",
       "29                   0.0               35000  2014-01-16 00:00:00\n",
       "...                  ...                 ...                  ...\n",
       "113907              10.0                4000  2013-11-13 00:00:00\n",
       "113908               0.0                7500  2010-12-08 00:00:00\n",
       "113909               0.0                6000  2012-09-17 00:00:00\n",
       "113910               0.0                4000  2014-01-29 00:00:00\n",
       "113911               0.0               10000  2013-11-27 00:00:00\n",
       "113912               0.0                4000  2013-12-20 00:00:00\n",
       "113913               0.0                8000  2010-05-05 00:00:00\n",
       "113914               NaN                3000  2006-08-18 00:00:00\n",
       "113915               0.0                3000  2008-08-06 00:00:00\n",
       "113916               0.0                4000  2012-11-28 00:00:00\n",
       "113917            1251.0                4000  2013-11-29 00:00:00\n",
       "113918               0.0                7000  2008-06-27 00:00:00\n",
       "113919               0.0                4000  2013-05-14 00:00:00\n",
       "113920           20235.0                4000  2013-06-13 00:00:00\n",
       "113921               NaN                1000  2005-11-15 00:00:00\n",
       "113922               0.0                5000  2008-08-19 00:00:00\n",
       "113923               0.0                8000  2008-09-23 00:00:00\n",
       "113924               0.0                5000  2012-10-23 00:00:00\n",
       "113925               0.0                4000  2013-05-08 00:00:00\n",
       "113926               NaN                3000  2006-08-08 00:00:00\n",
       "113927               0.0                4292  2008-05-09 00:00:00\n",
       "113928               0.0                2000  2011-06-10 00:00:00\n",
       "113929               0.0                2500  2013-07-10 00:00:00\n",
       "113930               0.0                3000  2013-07-10 00:00:00\n",
       "113931               0.0               25000  2014-01-22 00:00:00\n",
       "113932               0.0               10000  2013-04-22 00:00:00\n",
       "113933            5062.0                2000  2011-11-07 00:00:00\n",
       "113934               0.0               10000  2013-12-23 00:00:00\n",
       "113935               0.0               15000  2011-11-21 00:00:00\n",
       "113936             257.0                2000  2014-01-21 00:00:00\n",
       "\n",
       "[113937 rows x 3 columns]"
      ]
     },
     "execution_count": 7,
     "metadata": {},
     "output_type": "execute_result"
    }
   ],
   "source": [
    "data[['AmountDelinquent','LoanOriginalAmount','LoanOriginationDate']]\n"
   ]
  },
  {
   "cell_type": "code",
   "execution_count": 3,
   "metadata": {
    "collapsed": false
   },
   "outputs": [
    {
     "name": "stdout",
     "output_type": "stream",
     "text": [
      "1000\n",
      "35000\n",
      "6500.0\n"
     ]
    }
   ],
   "source": [
    "print np.min(data.LoanOriginalAmount)\n",
    "print np.max(data.LoanOriginalAmount)\n",
    "print np.median(data.LoanOriginalAmount)\n"
   ]
  },
  {
   "cell_type": "code",
   "execution_count": 5,
   "metadata": {
    "collapsed": false
   },
   "outputs": [
    {
     "name": "stdout",
     "output_type": "stream",
     "text": [
      "count                  113937\n",
      "unique                   1873\n",
      "top       2014-01-22 00:00:00\n",
      "freq                      491\n",
      "Name: LoanOriginationDate, dtype: object\n",
      "count    113937.00000\n",
      "mean       8337.01385\n",
      "std        6245.80058\n",
      "min        1000.00000\n",
      "25%        4000.00000\n",
      "50%        6500.00000\n",
      "75%       12000.00000\n",
      "max       35000.00000\n",
      "Name: LoanOriginalAmount, dtype: float64\n",
      "['2007' '2014' '2012' '2013' '2006' '2010' '2011' '2008' '2009' '2005']\n"
     ]
    }
   ],
   "source": [
    "#df = data[['LoanOriginationDate','LoanOriginalAmount','ProsperPaymentsLessThanOneMonthLate']]\n",
    "df = data\n",
    "print df.LoanOriginationDate.describe()\n",
    "print df.LoanOriginalAmount.describe()\n",
    "df['year'] = df['LoanOriginationDate'].apply(lambda x: x[:4])\n",
    "print df.year.unique()\n"
   ]
  },
  {
   "cell_type": "code",
   "execution_count": 1,
   "metadata": {
    "collapsed": false
   },
   "outputs": [
    {
     "ename": "NameError",
     "evalue": "name 'ggplot' is not defined",
     "output_type": "error",
     "traceback": [
      "\u001b[0;31m---------------------------------------------------------------------------\u001b[0m",
      "\u001b[0;31mNameError\u001b[0m                                 Traceback (most recent call last)",
      "\u001b[0;32m<ipython-input-1-6ef9e3b8591d>\u001b[0m in \u001b[0;36m<module>\u001b[0;34m()\u001b[0m\n\u001b[0;32m----> 1\u001b[0;31m \u001b[0mggplot\u001b[0m\u001b[0;34m(\u001b[0m\u001b[0mdf\u001b[0m\u001b[0;34m,\u001b[0m \u001b[0maes\u001b[0m\u001b[0;34m(\u001b[0m\u001b[0mx\u001b[0m\u001b[0;34m=\u001b[0m\u001b[0;34m'year'\u001b[0m\u001b[0;34m,\u001b[0m\u001b[0my\u001b[0m\u001b[0;34m=\u001b[0m\u001b[0;34m'LoanOriginalAmount'\u001b[0m\u001b[0;34m,\u001b[0m\u001b[0mfill\u001b[0m\u001b[0;34m=\u001b[0m\u001b[0;34m'EmploymentStatus'\u001b[0m\u001b[0;34m)\u001b[0m\u001b[0;34m)\u001b[0m \u001b[0;34m+\u001b[0m \u001b[0mgeom_bar\u001b[0m\u001b[0;34m(\u001b[0m\u001b[0;34m)\u001b[0m\u001b[0;34m\u001b[0m\u001b[0m\n\u001b[0m",
      "\u001b[0;31mNameError\u001b[0m: name 'ggplot' is not defined"
     ]
    }
   ],
   "source": [
    "ggplot(df, aes(x='year',y='LoanOriginalAmount',fill='EmploymentStatus')) + geom_bar()\n"
   ]
  },
  {
   "cell_type": "code",
   "execution_count": 7,
   "metadata": {
    "collapsed": false,
    "scrolled": false
   },
   "outputs": [
    {
     "data": {
      "image/png": "[encoded data removed]",
      "text/plain": [
       "<matplotlib.figure.Figure at 0x11a407190>"
      ]
     },
     "metadata": {},
     "output_type": "display_data"
    },
    {
     "data": {
      "text/plain": [
       "<ggplot: (303619277)>"
      ]
     },
     "execution_count": 7,
     "metadata": {},
     "output_type": "execute_result"
    }
   ],
   "source": [
    "ggplot(df, aes(x='year',y='DebtToIncomeRatio')) + geom_point()"
   ]
  },
  {
   "cell_type": "code",
   "execution_count": 21,
   "metadata": {
    "collapsed": false,
    "scrolled": true
   },
   "outputs": [
    {
     "data": {
      "text/plain": [
       "array(['CO', 'GA', 'MN', 'NM', 'KS', 'CA', 'IL', 'MD', nan, 'AL', 'AZ',\n",
       "       'VA', 'FL', 'PA', 'OR', 'MI', 'NY', 'LA', 'WI', 'OH', 'NC', 'WA',\n",
       "       'NV', 'NJ', 'TX', 'AR', 'SC', 'DE', 'MO', 'NE', 'UT', 'DC', 'MA',\n",
       "       'CT', 'IN', 'KY', 'OK', 'MS', 'WV', 'RI', 'TN', 'ID', 'MT', 'HI',\n",
       "       'NH', 'VT', 'WY', 'ME', 'AK', 'IA', 'SD', 'ND'], dtype=object)"
      ]
     },
     "execution_count": 21,
     "metadata": {},
     "output_type": "execute_result"
    }
   ],
   "source": [
    "data.BorrowerState.unique()"
   ]
  },
  {
   "cell_type": "code",
   "execution_count": 13,
   "metadata": {
    "collapsed": false
   },
   "outputs": [
    {
     "data": {
      "image/png": "[encoded data removed]",
      "text/plain": [
       "<matplotlib.figure.Figure at 0x123d95d10>"
      ]
     },
     "metadata": {},
     "output_type": "display_data"
    },
    {
     "data": {
      "text/plain": [
       "<ggplot: (306025757)>"
      ]
     },
     "execution_count": 13,
     "metadata": {},
     "output_type": "execute_result"
    }
   ],
   "source": [
    "ggplot(df, aes(x='year',y='LoanOriginalAmount')) + geom_bar()"
   ]
  },
  {
   "cell_type": "code",
   "execution_count": 28,
   "metadata": {
    "collapsed": false
   },
   "outputs": [
    {
     "data": {
      "text/plain": [
       "array(['Self-employed', 'Employed', 'Not available', 'Full-time', 'Other',\n",
       "       nan, 'Not employed', 'Part-time', 'Retired'], dtype=object)"
      ]
     },
     "execution_count": 28,
     "metadata": {},
     "output_type": "execute_result"
    }
   ],
   "source": [
    "data.EmploymentStatus.unique()"
   ]
  },
  {
   "cell_type": "code",
   "execution_count": 10,
   "metadata": {
    "collapsed": false
   },
   "outputs": [
    {
     "data": {
      "image/png": "[encoded data removed]",
      "text/plain": [
       "<matplotlib.figure.Figure at 0x122c9d650>"
      ]
     },
     "metadata": {},
     "output_type": "display_data"
    },
    {
     "data": {
      "text/plain": [
       "<ggplot: (304466553)>"
      ]
     },
     "execution_count": 10,
     "metadata": {},
     "output_type": "execute_result"
    }
   ],
   "source": [
    "ggplot(data, aes(x='BorrowerState',y='LoanOriginalAmount')) + geom_bar()"
   ]
  },
  {
   "cell_type": "code",
   "execution_count": 16,
   "metadata": {
    "collapsed": false
   },
   "outputs": [
    {
     "name": "stdout",
     "output_type": "stream",
     "text": [
      "                    LoanOriginalAmount\n",
      "BorrowerState year                    \n",
      "AK            2006                5000\n",
      "              2007               91800\n",
      "              2008              107574\n",
      "              2009               12000\n",
      "              2010               49700\n",
      "              2011              170700\n",
      "              2012              278447\n",
      "              2013              710500\n",
      "              2014              436640\n",
      "AL            2006              347427\n",
      "              2007             1312161\n",
      "              2008              843362\n",
      "              2009              100920\n",
      "              2010              375764\n",
      "              2011              932236\n",
      "              2012             2197082\n",
      "              2013             4789856\n",
      "              2014             1787642\n",
      "AR            2006                7000\n",
      "              2007               27600\n",
      "              2008              293150\n",
      "              2009               75800\n",
      "              2010              151522\n",
      "              2011              560015\n",
      "              2012             1128683\n",
      "              2013             2997453\n",
      "              2014             1339625\n",
      "AZ            2006              342475\n",
      "              2007             1572793\n",
      "              2008             1745357\n",
      "...                                ...\n",
      "WA            2012             3946381\n",
      "              2013             8419276\n",
      "              2014             3566900\n",
      "WI            2006              167150\n",
      "              2007              615759\n",
      "              2008              989926\n",
      "              2009              146350\n",
      "              2010              393550\n",
      "              2011             1446214\n",
      "              2012             2806346\n",
      "              2013             6501753\n",
      "              2014             2445126\n",
      "WV            2006               38650\n",
      "              2007              120850\n",
      "              2008              218790\n",
      "              2009               43250\n",
      "              2010               64200\n",
      "              2011              283683\n",
      "              2012              586982\n",
      "              2013             1388761\n",
      "              2014              431969\n",
      "WY            2006               10250\n",
      "              2007               59450\n",
      "              2008               70174\n",
      "              2009                7750\n",
      "              2010               30650\n",
      "              2011               75700\n",
      "              2012              166428\n",
      "              2013              600386\n",
      "              2014              205000\n",
      "\n",
      "[431 rows x 1 columns]\n"
     ]
    }
   ],
   "source": [
    "df2 = data[['BorrowerState', 'LoanOriginalAmount']].groupby(['BorrowerState'], as_index=False)\n",
    "print df[['BorrowerState', 'LoanOriginalAmount', 'year']].groupby(['BorrowerState', 'year']).sum()"
   ]
  },
  {
   "cell_type": "code",
   "execution_count": 22,
   "metadata": {
    "collapsed": false
   },
   "outputs": [
    {
     "data": {
      "image/png": "[encoded data removed]",
      "text/plain": [
       "<matplotlib.figure.Figure at 0x122043110>"
      ]
     },
     "metadata": {},
     "output_type": "display_data"
    },
    {
     "data": {
      "text/plain": [
       "<ggplot: (307106925)>"
      ]
     },
     "execution_count": 22,
     "metadata": {},
     "output_type": "execute_result"
    }
   ],
   "source": [
    "df2 = data[['year', 'LoanOriginalAmount']].groupby(['year'], as_index=False).sum()\n",
    "ggplot(df2, aes('year', 'LoanOriginalAmount')) + geom_point() + geom_line()"
   ]
  },
  {
   "cell_type": "code",
   "execution_count": 3,
   "metadata": {
    "collapsed": false
   },
   "outputs": [],
   "source": [
    "df[['BorrowerState', 'LoanOriginalAmount', 'year']].groupby(['BorrowerState','year']).sum().to_csv('loan_amounts_year.csv', index=True)"
   ]
  },
  {
   "cell_type": "code",
   "execution_count": 3,
   "metadata": {
    "collapsed": false
   },
   "outputs": [
    {
     "name": "stdout",
     "output_type": "stream",
     "text": [
      "              LoanOriginalAmount                                     \\\n",
      "year                        2006        2007        2008       2009   \n",
      "BorrowerState                                                         \n",
      "AK                        5000.0     91800.0    107574.0    12000.0   \n",
      "AL                      347427.0   1312161.0    843362.0   100920.0   \n",
      "AR                        7000.0     27600.0    293150.0    75800.0   \n",
      "AZ                      342475.0   1572793.0   1745357.0   110067.0   \n",
      "CA                     2898995.0  14176618.0  11671928.0  1268231.0   \n",
      "CO                      321300.0   1421582.0   1422422.0   283838.0   \n",
      "CT                       30800.0    168159.0    581124.0   207450.0   \n",
      "DC                           NaN         NaN    371099.0    83500.0   \n",
      "DE                        5000.0     25575.0    153799.0    20500.0   \n",
      "FL                      814478.0   3035290.0   4977954.0   579820.0   \n",
      "GA                     1441680.0   5683178.0   4604571.0   628843.0   \n",
      "HI                       24950.0    196700.0    262204.0    22500.0   \n",
      "IA                       51001.0    473827.0    517129.0        NaN   \n",
      "ID                       89650.0    455742.0    558203.0    67950.0   \n",
      "IL                      730202.0   4765101.0   4612309.0   580232.0   \n",
      "IN                      302634.0   1029175.0   1206851.0   182549.0   \n",
      "KS                       90330.0    445050.0    593583.0    14000.0   \n",
      "KY                        2000.0    271707.0    442687.0    32000.0   \n",
      "LA                       93050.0    282414.0    246449.0    51476.0   \n",
      "MA                      386923.0   1394336.0   1360315.0   139251.0   \n",
      "MD                      276630.0   2627900.0   2328557.0   241479.0   \n",
      "ME                       27150.0    149900.0    312758.0        NaN   \n",
      "MI                      488062.0   2691368.0   2170424.0   207399.0   \n",
      "MN                        5600.0   1449282.0   2350638.0   247050.0   \n",
      "MO                      535150.0   1834812.0   1698222.0   222297.0   \n",
      "MS                       17750.0    165950.0    377289.0    36680.0   \n",
      "MT                       51900.0    278934.0    239950.0     7685.0   \n",
      "NC                      358900.0   1331828.0   1996385.0   289810.0   \n",
      "ND                       31900.0     91360.0     91950.0        NaN   \n",
      "NE                       19200.0    264300.0    316841.0    57350.0   \n",
      "NH                      127108.0    490359.0    438127.0    18715.0   \n",
      "NJ                      195125.0    903499.0   1280297.0   184250.0   \n",
      "NM                       81857.0    438992.0    291662.0    22250.0   \n",
      "NV                           NaN         NaN    372300.0    52075.0   \n",
      "NY                      626389.0   2032832.0   2816704.0   454113.0   \n",
      "OH                       14863.0   2103278.0   2684222.0   226988.0   \n",
      "OK                       87904.0    633774.0    527739.0    80801.0   \n",
      "OR                      384144.0   1794180.0   1329821.0   192120.0   \n",
      "PA                       30100.0      6000.0   1423868.0   241000.0   \n",
      "RI                           NaN         NaN     94871.0    24500.0   \n",
      "SC                       13800.0    127825.0    541582.0    99757.0   \n",
      "SD                           NaN         NaN         NaN     9500.0   \n",
      "TN                       37300.0     76000.0    856595.0   121800.0   \n",
      "TX                     1848019.0   3755086.0   1243434.0   503897.0   \n",
      "UT                      199426.0   1208009.0    869304.0    87850.0   \n",
      "VA                      175067.0    690189.0   2159779.0   293497.0   \n",
      "VT                           NaN     50500.0    103100.0    14500.0   \n",
      "WA                      440247.0   2249643.0   2600545.0   318756.0   \n",
      "WI                      167150.0    615759.0    989926.0   146350.0   \n",
      "WV                       38650.0    120850.0    218790.0    43250.0   \n",
      "WY                       10250.0     59450.0     70174.0     7750.0   \n",
      "\n",
      "                                                                         \n",
      "year                2010       2011        2012        2013        2014  \n",
      "BorrowerState                                                            \n",
      "AK               49700.0   170700.0    278447.0    710500.0    436640.0  \n",
      "AL              375764.0   932236.0   2197082.0   4789856.0   1787642.0  \n",
      "AR              151522.0   560015.0   1128683.0   2997453.0   1339625.0  \n",
      "AZ              431071.0   857195.0   2326308.0   5621513.0   2580958.0  \n",
      "CA             3556800.0  9107971.0  19355947.0  49978473.0  20060190.0  \n",
      "CO              552280.0  1559369.0   3070110.0   7337806.0   3034693.0  \n",
      "CT              444249.0  1236129.0   2727822.0   6940607.0   2517600.0  \n",
      "DC              102600.0   466077.0    881574.0   1390315.0    572872.0  \n",
      "DE               80600.0   238450.0    484442.0   1075000.0    568810.0  \n",
      "FL             1602445.0  5459903.0  10036414.0  20544291.0   8103540.0  \n",
      "GA             1290855.0  3439605.0   6622327.0  12851830.0   5318325.0  \n",
      "HI               41100.0   263205.0    567400.0   1723680.0    639700.0  \n",
      "IA                   NaN        NaN         NaN         NaN         NaN  \n",
      "ID              189299.0   316639.0    539600.0   1556879.0    733800.0  \n",
      "IL             1533279.0  4590740.0   7637371.0  18509050.0   6754023.0  \n",
      "IN              605474.0  1504443.0   3084095.0   6435317.0   2414900.0  \n",
      "KS              216249.0   656497.0   1502873.0   3779234.0   1533985.0  \n",
      "KY              213434.0   638390.0   1874384.0   3622258.0   1303258.0  \n",
      "LA              246125.0   659681.0   1735652.0   3457162.0   1405256.0  \n",
      "MA              611615.0  1403286.0   3512872.0   8839555.0   3684101.0  \n",
      "MD              831652.0  2043844.0   4343005.0   9544832.0   3856324.0  \n",
      "ME                   NaN        NaN         NaN         NaN         NaN  \n",
      "MI              785995.0  1942976.0   4718311.0  10261213.0   4203482.0  \n",
      "MN              491350.0  1399019.0   2928502.0   6587417.0   2781834.0  \n",
      "MO              670379.0  1718338.0   2959783.0   6503683.0   2482484.0  \n",
      "MS              181100.0   606673.0   1123985.0   2865027.0   1130656.0  \n",
      "MT               51250.0   190986.0    332473.0    926700.0    289792.0  \n",
      "NC              964490.0  2377336.0   4762351.0   8727953.0   3849435.0  \n",
      "ND                   NaN        NaN         NaN         NaN         NaN  \n",
      "NE              127750.0   447636.0    858133.0   2282525.0   1123892.0  \n",
      "NH               87900.0   343361.0    804132.0   1994833.0    909600.0  \n",
      "NJ              767773.0  2320012.0   4976516.0  13655132.0   5228769.0  \n",
      "NM               93850.0   322704.0    507400.0   1497899.0    866075.0  \n",
      "NV              263785.0   728983.0   1402273.0   4930314.0   1838216.0  \n",
      "NY             1646857.0  4947712.0  11129172.0  25978132.0   9805577.0  \n",
      "OH              979288.0  2787743.0   5724785.0  13647464.0   5735817.0  \n",
      "OK              232750.0   554293.0   1367661.0   2911553.0   1339394.0  \n",
      "OR              430300.0   979222.0   2175621.0   4784335.0   1578821.0  \n",
      "PA              646360.0  2236237.0   4444542.0  11339680.0   4659771.0  \n",
      "RI              121500.0   377964.0    642921.0   1858642.0    687065.0  \n",
      "SC              379083.0   905459.0   1842448.0   4111419.0   1414662.0  \n",
      "SD               51500.0   206650.0    318785.0    601200.0    266629.0  \n",
      "TN              610785.0  1638637.0   2971738.0   5484716.0   2298304.0  \n",
      "TX             1638557.0  4726986.0   9476702.0  27773163.0  11213244.0  \n",
      "UT              257700.0   477915.0    743300.0   2097500.0    932950.0  \n",
      "VA             1117591.0  3034087.0   5267099.0  11929091.0   4741972.0  \n",
      "VT               28100.0    91600.0    283938.0    804900.0    321858.0  \n",
      "WA              699980.0  1865512.0   3946381.0   8419276.0   3566900.0  \n",
      "WI              393550.0  1446214.0   2806346.0   6501753.0   2445126.0  \n",
      "WV               64200.0   283683.0    586982.0   1388761.0    431969.0  \n",
      "WY               30650.0    75700.0    166428.0    600386.0    205000.0  \n"
     ]
    }
   ],
   "source": [
    "df2 = df[['BorrowerState', 'year', 'LoanOriginalAmount']].groupby(['BorrowerState','year']).sum();\n",
    "df3 = df2.unstack(1)\n",
    "print df3\n",
    "#df3.to_csv('loan_amounts_by_year.csv', index=True)\n",
    "#df.pivot(index='BorrowerState', columns='year', values='LoanOriginalAmount')"
   ]
  }
 ],
 "metadata": {
  "kernelspec": {
   "display_name": "Python 2",
   "language": "python",
   "name": "python2"
  },
  "language_info": {
   "codemirror_mode": {
    "name": "ipython",
    "version": 2
   },
   "file_extension": ".py",
   "mimetype": "text/x-python",
   "name": "python",
   "nbconvert_exporter": "python",
   "pygments_lexer": "ipython2",
   "version": "2.7.11"
  }
 },
 "nbformat": 4,
 "nbformat_minor": 0
}
